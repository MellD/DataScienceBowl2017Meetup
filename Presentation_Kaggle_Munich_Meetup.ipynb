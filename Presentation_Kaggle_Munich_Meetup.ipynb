{
 "cells": [
  {
   "cell_type": "markdown",
   "metadata": {},
   "source": [
    "# Data Science Bowl 2017: how to setup the competition\n",
    "\n",
    "Link to the competition: https://www.kaggle.com/c/data-science-bowl-2017\n"
   ]
  },
  {
   "cell_type": "markdown",
   "metadata": {},
   "source": [
    "## Agenda\n",
    "\n",
    "1. The Data Science Bowl 2017\n",
    "2. System Setup\n",
    "3. Get the data and initial analysis\n",
    "4. Preprocessing steps and results\n",
    "5. Outlook\n",
    "\n"
   ]
  },
  {
   "cell_type": "markdown",
   "metadata": {},
   "source": [
    "## 1. The Data Science Bowl 2017\n",
    "### What is the Data Science Bowl 2017\n",
    "\n",
    "Lung cancer is one of the most common types of cancer, with nearly 225,000 new cases of the disease expected in the U.S. in 2016.\n",
    "\n",
    "#### The Challange\n",
    "- Data set of high-resolution scans of lungs\n",
    "- Detect lesions in the lungs that are cancerous\n",
    "- Develop an artificial intelligence algorithm to reduce the false positive rate\n",
    "\n",
    "#### The Goal\n",
    "- With a lower false positive rate the low-dose CT scans could be widely used for lung cancer detection\n",
    "- Results have the potential to advance our understanding of how cancer develops \n",
    "\n",
    "\n",
    "### Scope of this years competition\n",
    "\n",
    "The Sience Bowl this year is sponsored by Laura and John Arnold Foundation, National Cancer Institute, American College of Radiology, Amazon Web Services, NVIDIA and several\n",
    "\n",
    "- Global, web-based competition\n",
    "- Open 90 days, from January 12 to April 12, 2017\n",
    "- $1 million in prize money provided by the Laura and John Arnold Foundation"
   ]
  },
  {
   "cell_type": "markdown",
   "metadata": {},
   "source": [
    "### Why Lung Cancer?\n",
    "[alt text](https://github.com/WoodmarkConsulting/DataScienceBowl2017Meetup/blob/addAWSCommands/pictures/infoLungCancer.png)\n"
   ]
  },
  {
   "cell_type": "code",
   "execution_count": null,
   "metadata": {
    "collapsed": true
   },
   "outputs": [],
   "source": []
  }
 ],
 "metadata": {
  "anaconda-cloud": {},
  "kernelspec": {
   "display_name": "Python [default]",
   "language": "python",
   "name": "python3"
  },
  "language_info": {
   "codemirror_mode": {
    "name": "ipython",
    "version": 3
   },
   "file_extension": ".py",
   "mimetype": "text/x-python",
   "name": "python",
   "nbconvert_exporter": "python",
   "pygments_lexer": "ipython3",
   "version": "3.5.2"
  }
 },
 "nbformat": 4,
 "nbformat_minor": 1
}
