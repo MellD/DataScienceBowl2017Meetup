{
 "cells": [
  {
   "cell_type": "markdown",
   "metadata": {
    "nbpresent": {
     "id": "20e5cceb-3ef6-4ac6-b627-ac62a3248822"
    }
   },
   "source": [
    "# Data Science Bowl 2017: how to setup the competition\n",
    "\n",
    "Link to the competition: https://www.kaggle.com/c/data-science-bowl-2017\n"
   ]
  },
  {
   "cell_type": "markdown",
   "metadata": {
    "nbpresent": {
     "id": "fa732945-00f6-4e92-94bd-2caae86ead4b"
    }
   },
   "source": [
    "## Agenda\n",
    "\n",
    "1. The Data Science Bowl 2017\n",
    "2. System Setup\n",
    "3. Get the data and initial analysis\n",
    "4. Preprocessing steps and results\n",
    "5. Outlook\n",
    "\n"
   ]
  },
  {
   "cell_type": "markdown",
   "metadata": {
    "nbpresent": {
     "id": "26a3e589-d2e5-4495-8ea6-08a2ed4563af"
    }
   },
   "source": [
    "## 1. The Data Science Bowl 2017\n",
    "### What is the Data Science Bowl 2017\n",
    "\n",
    "Lung cancer is one of the most common types of cancer, with nearly 225,000 new cases of the disease expected in the U.S. in 2016.\n",
    "\n",
    "#### The Challange\n",
    "- Data set of high-resolution scans of lungs\n",
    "- Detect lesions in the lungs that are cancerous\n",
    "- Develop an artificial intelligence algorithm to reduce the false positive rate\n",
    "\n",
    "#### The Goal\n",
    "- With a lower false positive rate the low-dose CT scans could be widely used for lung cancer detection\n",
    "- Results have the potential to advance our understanding of how cancer develops \n",
    "\n",
    "\n",
    "### Scope of this years competition\n",
    "\n",
    "The Sience Bowl this year is sponsored by Laura and John Arnold Foundation, National Cancer Institute, American College of Radiology, Amazon Web Services, NVIDIA and several other\n",
    "\n",
    "- Global, web-based competition\n",
    "- Open 90 days, from January 12 to April 12, 2017\n",
    "- $1 million in prize money provided by the Laura and John Arnold Foundation"
   ]
  },
  {
   "cell_type": "markdown",
   "metadata": {
    "nbpresent": {
     "id": "12e7f360-405e-4893-823e-ec1f94653d9c"
    }
   },
   "source": [
    "### Why Lung Cancer?\n",
    "![alt text](pictures/lungCancerInfo.png)\n"
   ]
  },
  {
   "cell_type": "markdown",
   "metadata": {},
   "source": [
    "- Lung cancer is one of the most common types of cancer, with nearly 225,000 new cases of the disease expected in the U.S. in 2016.\n",
    "- It also accounts for $12 billion in health care costs in the U.S. every year.\n",
    "- Early detection is critical to surviving lung cancer, as it opens a range of treatment options not available when cancer is detected at later, more advanced stages."
   ]
  },
  {
   "cell_type": "markdown",
   "metadata": {},
   "source": [
    "## 2. System Setup\n",
    "### The Data\n",
    "- Data size\n",
    " - 66GB zipped\n",
    " - ~140GB unzipped\n",
    "- Data Format\n",
    " - CT scan data\n",
    " - .dcm files ( medical file format; use https://github.com/darcymason/pydicom )\n",
    "- Structure\n",
    " - Each folder represents one patient\n",
    " - 130 - 280 slices per patient"
   ]
  },
  {
   "cell_type": "code",
   "execution_count": 1,
   "metadata": {
    "collapsed": false
   },
   "outputs": [
    {
     "name": "stdout",
     "output_type": "stream",
     "text": [
      " Datentr„ger in Laufwerk C: ist OSDisk\n",
      " Volumeseriennummer: 3465-B012\n",
      "\n",
      " Verzeichnis von C:\\Users\\jonas.leininger\\DataScienceBowl2017Meetup\\data\\sample_2_patients\n",
      "\n",
      "08.03.2017  10:08    <DIR>          .\n",
      "08.03.2017  10:08    <DIR>          ..\n",
      "08.03.2017  10:08    <DIR>          00cba091fa4ad62cc3200a657aeb957e\n",
      "08.03.2017  10:08    <DIR>          0a0c32c9e08cc2ea76a71649de56be6d\n",
      "               0 Datei(en),              0 Bytes\n",
      "               4 Verzeichnis(se), 72.347.672.576 Bytes frei\n"
     ]
    }
   ],
   "source": [
    "ls \"data/sample_2_patients/\""
   ]
  },
  {
   "cell_type": "code",
   "execution_count": 9,
   "metadata": {
    "collapsed": false
   },
   "outputs": [
    {
     "name": "stdout",
     "output_type": "stream",
     "text": [
      " Datentr„ger in Laufwerk C: ist OSDisk\n",
      " Volumeseriennummer: 3465-B012\n",
      "\n",
      " Verzeichnis von C:\\Users\\jonas.leininger\\DataScienceBowl2017Meetup\\data\\sample_2_patients\\00cba091fa4ad62cc3200a657aeb957e\n",
      "\n",
      "08.03.2017  10:08    <DIR>          .\n",
      "08.03.2017  10:08    <DIR>          ..\n",
      "08.03.2017  08:28           525.448 034673134cbef5ea15ff9e0c8090500a.dcm\n",
      "08.03.2017  08:28           525.438 0484f5a7f55eb7b6743cadaffcce586d.dcm\n",
      "08.03.2017  08:28           525.446 053a0460fb45227bd8e0e7b514a71e8e.dcm\n"
     ]
    }
   ],
   "source": [
    "ls \"data/sample_2_patients/00cba091fa4ad62cc3200a657aeb957e/\" | head"
   ]
  },
  {
   "cell_type": "markdown",
   "metadata": {},
   "source": [
    "Import pydicom to process the .dcm files\n",
    "Documentation https://pydicom.readthedocs.io/en/stable/\n",
    "\n",
    "In conda run the following command:\n",
    "\n",
    "``` bash\n",
    "conda install -c conda-forge pydicom\n",
    "```\n",
    "\n",
    "- Information\n",
    " - Image with gray scale values\n",
    " - Z-Position of the slice \n",
    " - Resolution of images"
   ]
  },
  {
   "cell_type": "code",
   "execution_count": 3,
   "metadata": {
    "collapsed": false
   },
   "outputs": [],
   "source": [
    "import dicom\n",
    "import os\n",
    "\n",
    "inputFolder = 'Data/sample_2_patients/'\n",
    "patients = os.listdir(inputFolder)\n",
    "patients.sort()\n",
    "\n",
    "pathPatientZero = inputFolder + patients[0] + '/'\n",
    "patientZero_Images = [dicom.read_file(pathPatientZero + file) for file in os.listdir(pathPatientZero)]"
   ]
  },
  {
   "cell_type": "code",
   "execution_count": 4,
   "metadata": {
    "collapsed": false
   },
   "outputs": [
    {
     "data": {
      "text/plain": [
       "(0008, 0005) Specific Character Set              CS: 'ISO_IR 100'\n",
       "(0008, 0016) SOP Class UID                       UI: CT Image Storage\n",
       "(0008, 0018) SOP Instance UID                    UI: 1.2.840.113654.2.55.249139163741242644304020243485943527041\n",
       "(0008, 0060) Modality                            CS: 'CT'\n",
       "(0008, 103e) Series Description                  LO: 'Axial'\n",
       "(0010, 0010) Patient's Name                      PN: '00cba091fa4ad62cc3200a657aeb957e'\n",
       "(0010, 0020) Patient ID                          LO: '00cba091fa4ad62cc3200a657aeb957e'\n",
       "(0010, 0030) Patient's Birth Date                DA: '19000101'\n",
       "(0018, 0060) KVP                                 DS: ''\n",
       "(0020, 000d) Study Instance UID                  UI: 2.25.86208730140539712382771890501772734277950692397709007305473\n",
       "(0020, 000e) Series Instance UID                 UI: 2.25.11575877329635228925808596800269974740893519451784626046614\n",
       "(0020, 0011) Series Number                       IS: '3'\n",
       "(0020, 0012) Acquisition Number                  IS: '1'\n",
       "(0020, 0013) Instance Number                     IS: '118'\n",
       "(0020, 0020) Patient Orientation                 CS: ''\n",
       "(0020, 0032) Image Position (Patient)            DS: ['-145.500000', '-158.199997', '-316.200012']\n",
       "(0020, 0037) Image Orientation (Patient)         DS: ['1.000000', '0.000000', '0.000000', '0.000000', '1.000000', '0.000000']\n",
       "(0020, 0052) Frame of Reference UID              UI: 2.25.83033509634441686385652073462983801840121916678417719669650\n",
       "(0020, 1040) Position Reference Indicator        LO: 'SN'\n",
       "(0020, 1041) Slice Location                      DS: '-316.200012'\n",
       "(0028, 0002) Samples per Pixel                   US: 1\n",
       "(0028, 0004) Photometric Interpretation          CS: 'MONOCHROME2'\n",
       "(0028, 0010) Rows                                US: 512\n",
       "(0028, 0011) Columns                             US: 512\n",
       "(0028, 0030) Pixel Spacing                       DS: ['0.597656', '0.597656']\n",
       "(0028, 0100) Bits Allocated                      US: 16\n",
       "(0028, 0101) Bits Stored                         US: 16\n",
       "(0028, 0102) High Bit                            US: 15\n",
       "(0028, 0103) Pixel Representation                US: 1\n",
       "(0028, 0120) Pixel Padding Value                 US: 63536\n",
       "(0028, 1050) Window Center                       DS: '40'\n",
       "(0028, 1051) Window Width                        DS: '400'\n",
       "(0028, 1052) Rescale Intercept                   DS: '-1024'\n",
       "(0028, 1053) Rescale Slope                       DS: '1'\n",
       "(7fe0, 0010) Pixel Data                          OW: Array of 524288 bytes"
      ]
     },
     "execution_count": 4,
     "metadata": {},
     "output_type": "execute_result"
    }
   ],
   "source": [
    "patientZero_Images[0]"
   ]
  },
  {
   "cell_type": "code",
   "execution_count": 5,
   "metadata": {
    "collapsed": false
   },
   "outputs": [
    {
     "name": "stdout",
     "output_type": "stream",
     "text": [
      "Pixel array:  [[-2000 -2000 -2000 ..., -2000 -2000 -2000]\n",
      " [-2000 -2000 -2000 ..., -2000 -2000 -2000]\n",
      " [-2000 -2000 -2000 ..., -2000 -2000 -2000]\n",
      " ..., \n",
      " [-2000 -2000 -2000 ..., -2000 -2000 -2000]\n",
      " [-2000 -2000 -2000 ..., -2000 -2000 -2000]\n",
      " [-2000 -2000 -2000 ..., -2000 -2000 -2000]]\n",
      "Pixel array shape:  (512, 512)\n",
      "Scan position:  ['-145.500000', '-158.199997', '-316.200012']\n",
      "Scan location:  -316.200012\n",
      "Number of scans:  134\n"
     ]
    }
   ],
   "source": [
    "print(\"Pixel array: \", patientZero_Images[0].pixel_array)\n",
    "print(\"Pixel array shape: \",patientZero_Images[0].pixel_array.shape)\n",
    "print(\"Scan position: \",patientZero_Images[0].ImagePositionPatient)\n",
    "print(\"Scan location: \",patientZero_Images[0].SliceLocation)\n",
    "print(\"Number of scans: \",len(patientZero_Images))"
   ]
  },
  {
   "cell_type": "markdown",
   "metadata": {},
   "source": [
    "### Which System to use?\n",
    "\n",
    "- Unzipped data 140GB\n",
    " - After preprocessing at least same amount added\n",
    " - Minimum of ~300GB free disk space needed\n",
    "- For the artificial neural network we need a GPU\n",
    " - Without a GPU learning and prediction time to long\n",
    "\n",
    "#### Laptop\n",
    "- No GPU\n",
    "- Not enough free disk space\n",
    "\n",
    "#### Cloud computing instances\n",
    "- Number of GPUs and disk space is scalable"
   ]
  },
  {
   "cell_type": "markdown",
   "metadata": {},
   "source": [
    "### Which cloud scientific computing to use?\n",
    "\n",
    "- Amazon Web Services\n",
    " - Company likes to get experience with AWS\n",
    " - Fast search for tutorials results in a lot of information for AWS\n",
    " - AWS is one of the official partners for the competition"
   ]
  },
  {
   "cell_type": "markdown",
   "metadata": {
    "collapsed": true
   },
   "source": [
    "## 3. Get the Data and Initial Analysis\n",
    "### Where and how to load the data\n",
    "\n",
    "- Download via webbrowser ( ~0.5d-1.0d)\n",
    " - No additional setup\n",
    " - Browser needs to be open the whole time\n",
    "- Download via Torrent ( ~4h-8h)\n",
    " - Much faster than download from kaggle.com\n",
    " - Easier to pause the download\n",
    "- Download via Kaggle-CLI (~14h)\n",
    " - CLI to download data and upload submissions via console\n",
    " - Similar to wget in console but without –load-cookies\n",
    " - https://github.com/floydwch/kaggle-cli\n"
   ]
  },
  {
   "cell_type": "markdown",
   "metadata": {},
   "source": [
    "### Loading data to an AWS s3 bucket\n",
    "#### 1. Start with the cheapest ec2 instance with additional storage space (250GB+)\n",
    "#### 2. Download data via kaggle-cli\n",
    "Install kaggle-cli\n",
    "\n",
    "```bash\n",
    "pip install kaggle-cli\n",
    "```\n",
    "\n",
    "Configure the kaggle-cli\n",
    "```bash\n",
    "kg config -u `username` -p `password` -c `competition`\n",
    "```\n",
    "\n",
    "Download data with kg\n",
    "```bash\n",
    "kg download -f `train.zip`\n",
    "```\n",
    "\n",
    "#### 3. Load the data to an AWS s3 bucket\n",
    "Install aws-cli\n",
    "```bash\n",
    "sudo pip install --upgrade awscli\n",
    "```\n",
    "\n",
    "Configure aws-cli\n",
    "```bash\n",
    "aws configure\n",
    "```\n",
    "AWS user ID and security key are needed.\n",
    "Location of your s3 bucket, 'eu-central-1' for example (ec2 loactions are 'eu-central-1a', s3 buckets don't have the last letter)\n",
    "\n",
    "aws s3 mb s3://wmc-kaggle-data-upload-dsb\n",
    "\n",
    "aws s3api get-bucket-location --bucket bdckaggledatasciencebowl\n",
    "\n",
    "aws s3 cp --recursive stage1/ s3://bdckaggledatasciencebowl/DataKaggle/RawData/\n",
    "\n",
    "sudo apt-get install p7zip-full\n",
    "\n",
    "7za e stage1.7z"
   ]
  },
  {
   "cell_type": "code",
   "execution_count": null,
   "metadata": {
    "collapsed": true
   },
   "outputs": [],
   "source": []
  }
 ],
 "metadata": {
  "anaconda-cloud": {},
  "kernelspec": {
   "display_name": "Python [default]",
   "language": "python",
   "name": "python3"
  },
  "language_info": {
   "codemirror_mode": {
    "name": "ipython",
    "version": 3
   },
   "file_extension": ".py",
   "mimetype": "text/x-python",
   "name": "python",
   "nbconvert_exporter": "python",
   "pygments_lexer": "ipython3",
   "version": "3.5.2"
  },
  "nbpresent": {
   "slides": {
    "89d7ca40-a20a-45ef-a3ac-76f58b7ebf75": {
     "id": "89d7ca40-a20a-45ef-a3ac-76f58b7ebf75",
     "prev": null,
     "regions": {
      "f3e4fea7-d715-4049-b01d-849af180d55b": {
       "attrs": {
        "height": 0.8,
        "width": 0.8,
        "x": 0.1,
        "y": 0.1
       },
       "content": {
        "cell": "20e5cceb-3ef6-4ac6-b627-ac62a3248822",
        "part": "whole"
       },
       "id": "f3e4fea7-d715-4049-b01d-849af180d55b"
      }
     }
    },
    "9e074951-9d85-45f6-8bd3-7d7fe1e9998a": {
     "id": "9e074951-9d85-45f6-8bd3-7d7fe1e9998a",
     "prev": "adc14ce3-9418-48e5-9862-8b980fc7c510",
     "regions": {
      "d3dc7100-fcac-4281-9958-2db3f3edc21f": {
       "attrs": {
        "height": 0.8,
        "width": 0.8,
        "x": 0.1,
        "y": 0.1
       },
       "content": {
        "cell": "26a3e589-d2e5-4495-8ea6-08a2ed4563af",
        "part": "whole"
       },
       "id": "d3dc7100-fcac-4281-9958-2db3f3edc21f"
      }
     }
    },
    "adc14ce3-9418-48e5-9862-8b980fc7c510": {
     "id": "adc14ce3-9418-48e5-9862-8b980fc7c510",
     "prev": "89d7ca40-a20a-45ef-a3ac-76f58b7ebf75",
     "regions": {
      "10e08be3-7834-48b8-bc90-55f3f598d3e7": {
       "attrs": {
        "height": 0.8,
        "width": 0.8,
        "x": 0.1,
        "y": 0.1
       },
       "content": {
        "cell": "fa732945-00f6-4e92-94bd-2caae86ead4b",
        "part": "whole"
       },
       "id": "10e08be3-7834-48b8-bc90-55f3f598d3e7"
      }
     }
    },
    "e9a67fc4-c80a-47c8-b1af-00a724a91fb5": {
     "id": "e9a67fc4-c80a-47c8-b1af-00a724a91fb5",
     "prev": "9e074951-9d85-45f6-8bd3-7d7fe1e9998a",
     "regions": {
      "a539e016-e642-4726-9a9e-12327496d82f": {
       "attrs": {
        "height": 0.8,
        "width": 0.8,
        "x": 0.1,
        "y": 0.1
       },
       "content": {
        "cell": "12e7f360-405e-4893-823e-ec1f94653d9c",
        "part": "whole"
       },
       "id": "a539e016-e642-4726-9a9e-12327496d82f"
      }
     }
    },
    "ecf8129d-84af-4782-825c-cb579aeb1bf2": {
     "id": "ecf8129d-84af-4782-825c-cb579aeb1bf2",
     "prev": "e9a67fc4-c80a-47c8-b1af-00a724a91fb5",
     "regions": {
      "bacaf540-a2f9-4a23-8705-137969259673": {
       "attrs": {
        "height": 0.8,
        "width": 0.8,
        "x": 0.1,
        "y": 0.1
       },
       "content": {
        "cell": "103c6bbb-0657-43b1-b59a-6134d2f0a475",
        "part": "whole"
       },
       "id": "bacaf540-a2f9-4a23-8705-137969259673"
      }
     }
    }
   },
   "themes": {}
  }
 },
 "nbformat": 4,
 "nbformat_minor": 1
}
