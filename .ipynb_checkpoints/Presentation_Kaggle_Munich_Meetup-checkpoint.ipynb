{
 "cells": [
  {
   "cell_type": "markdown",
   "metadata": {
    "nbpresent": {
     "id": "20e5cceb-3ef6-4ac6-b627-ac62a3248822"
    }
   },
   "source": [
    "# Data Science Bowl 2017: how to setup the competition\n",
    "\n",
    "Link to the competition: https://www.kaggle.com/c/data-science-bowl-2017\n"
   ]
  },
  {
   "cell_type": "markdown",
   "metadata": {
    "nbpresent": {
     "id": "fa732945-00f6-4e92-94bd-2caae86ead4b"
    }
   },
   "source": [
    "## Agenda\n",
    "\n",
    "1. The Data Science Bowl 2017\n",
    "2. System Setup\n",
    "3. Get the data and initial analysis\n",
    "4. Preprocessing steps and results\n",
    "5. Outlook\n",
    "\n"
   ]
  },
  {
   "cell_type": "markdown",
   "metadata": {
    "nbpresent": {
     "id": "26a3e589-d2e5-4495-8ea6-08a2ed4563af"
    }
   },
   "source": [
    "## 1. The Data Science Bowl 2017\n",
    "### What is the Data Science Bowl 2017\n",
    "\n",
    "Lung cancer is one of the most common types of cancer, with nearly 225,000 new cases of the disease expected in the U.S. in 2016.\n",
    "\n",
    "#### The Challange\n",
    "- Data set of high-resolution scans of lungs\n",
    "- Detect lesions in the lungs that are cancerous\n",
    "- Develop an artificial intelligence algorithm to reduce the false positive rate\n",
    "\n",
    "#### The Goal\n",
    "- With a lower false positive rate the low-dose CT scans could be widely used for lung cancer detection\n",
    "- Results have the potential to advance our understanding of how cancer develops \n",
    "\n",
    "\n",
    "### Scope of this years competition\n",
    "\n",
    "The Sience Bowl this year is sponsored by Laura and John Arnold Foundation, National Cancer Institute, American College of Radiology, Amazon Web Services, NVIDIA and several other\n",
    "\n",
    "- Global, web-based competition\n",
    "- Open 90 days, from January 12 to April 12, 2017\n",
    "- $1 million in prize money provided by the Laura and John Arnold Foundation"
   ]
  },
  {
   "cell_type": "markdown",
   "metadata": {
    "nbpresent": {
     "id": "12e7f360-405e-4893-823e-ec1f94653d9c"
    }
   },
   "source": [
    "### Why Lung Cancer?\n",
    "![alt text](pictures/lungCancerInfo.png)\n"
   ]
  },
  {
   "cell_type": "markdown",
   "metadata": {},
   "source": [
    "- Lung cancer is one of the most common types of cancer, with nearly 225,000 new cases of the disease expected in the U.S. in 2016.\n",
    "- It also accounts for $12 billion in health care costs in the U.S. every year.\n",
    "- Early detection is critical to surviving lung cancer, as it opens a range of treatment options not available when cancer is detected at later, more advanced stages."
   ]
  },
  {
   "cell_type": "markdown",
   "metadata": {},
   "source": [
    "## System Setup\n",
    "### The Data\n",
    "- Data size\n",
    " - 66GB zipped\n",
    " - ~140GB unzipped\n",
    "- Data Format\n",
    " - CT scan data\n",
    " - .dcm files ( medical file format; use https://github.com/darcymason/pydicom )\n",
    "- Structure\n",
    " - Each folder represents one patient\n",
    " - 130 - 280 slices per patient"
   ]
  },
  {
   "cell_type": "code",
   "execution_count": 7,
   "metadata": {
    "collapsed": false
   },
   "outputs": [
    {
     "name": "stdout",
     "output_type": "stream",
     "text": [
      " Datentr„ger in Laufwerk C: ist OSDisk\n",
      " Volumeseriennummer: 3465-B012\n",
      "\n",
      " Verzeichnis von C:\\Users\\jonas.leininger\\DataScienceBowl2017Meetup\\data\\sample_2_patients\n",
      "\n",
      "08.03.2017  10:08    <DIR>          .\n",
      "08.03.2017  10:08    <DIR>          ..\n",
      "08.03.2017  10:08    <DIR>          00cba091fa4ad62cc3200a657aeb957e\n",
      "08.03.2017  10:08    <DIR>          0a0c32c9e08cc2ea76a71649de56be6d\n",
      "               0 Datei(en),              0 Bytes\n",
      "               4 Verzeichnis(se), 72.635.731.968 Bytes frei\n"
     ]
    }
   ],
   "source": [
    "ls \"data/sample_2_patients/\""
   ]
  },
  {
   "cell_type": "code",
   "execution_count": 8,
   "metadata": {
    "collapsed": false
   },
   "outputs": [
    {
     "name": "stdout",
     "output_type": "stream",
     "text": [
      " Datentr„ger in Laufwerk C: ist OSDisk\n",
      " Volumeseriennummer: 3465-B012\n",
      "\n",
      " Verzeichnis von C:\\Users\\jonas.leininger\\DataScienceBowl2017Meetup\\data\\sample_2_patients\\00cba091fa4ad62cc3200a657aeb957e\n",
      "\n",
      "08.03.2017  10:08    <DIR>          .\n",
      "08.03.2017  10:08    <DIR>          ..\n",
      "08.03.2017  08:28           525.448 034673134cbef5ea15ff9e0c8090500a.dcm\n",
      "08.03.2017  08:28           525.438 0484f5a7f55eb7b6743cadaffcce586d.dcm\n",
      "08.03.2017  08:28           525.446 053a0460fb45227bd8e0e7b514a71e8e.dcm\n",
      "08.03.2017  08:28           525.446 0678ae61b7c56dfaf35477f6d01a6ffc.dcm\n",
      "08.03.2017  08:28           525.448 06ba0baeb0f26fb7aed5249eebbb77a9.dcm\n",
      "08.03.2017  08:28           525.442 0791f624c2f313bfe490ac940947977e.dcm\n",
      "08.03.2017  08:28           525.438 08eb3a007acc90a45b6e1b92fb479adc.dcm\n",
      "08.03.2017  08:28           525.438 090173a7ed57a872b62fd7c0b1d24be5.dcm\n",
      "08.03.2017  08:28           525.442 0a291d1b12b86213d813e3796f14b329.dcm\n",
      "08.03.2017  08:28           525.442 0af07f64d14d6b0451036cc742a96fbf.dcm\n",
      "08.03.2017  08:28           525.448 0b8fdd1863b4362453001a94123ab40f.dcm\n",
      "08.03.2017  08:28           525.442 0ba4f3cf525a9da7e02e181957ca2bd8.dcm\n",
      "08.03.2017  08:28           525.448 0cd80c17d64e56cc3b9f5d7229880a14.dcm\n",
      "08.03.2017  08:28           525.446 0d546a5ae1473f772e6a8f271a049535.dcm\n",
      "08.03.2017  08:28           525.446 1077260369ab1f39a195fc8c727f6ec6.dcm\n",
      "08.03.2017  08:28           525.442 16486a1cd911b9108c52f2ac512380a5.dcm\n",
      "08.03.2017  08:28           525.448 1770740f7f6cb2053b462288d6855f2b.dcm\n",
      "08.03.2017  08:28           525.442 1aeb4bab6fc11af5fa8923cdcdecb4c5.dcm\n",
      "08.03.2017  08:28           525.442 1d07f66753a81c3c6a4a1b3b55df860d.dcm\n",
      "08.03.2017  08:28           525.442 1daaf62f759aa843ee298851e3d87722.dcm\n",
      "08.03.2017  08:28           525.446 1e1f60ffa2fa56e5f25665ba732f3fee.dcm\n",
      "08.03.2017  08:28           525.444 1fb3cbe71ea9e0bfb08b0c68a20abe0b.dcm\n",
      "08.03.2017  08:28           525.438 211205a48984cde588c4fc77894963a9.dcm\n",
      "08.03.2017  08:28           525.448 230964c7e9db96fef0b540380a5a72c4.dcm\n",
      "08.03.2017  08:28           525.448 233618b409b6f65cc26327d82fc773a6.dcm\n",
      "08.03.2017  08:28           525.438 23df6bdd9ca404496cb5bb12ff1a4b1d.dcm\n",
      "08.03.2017  08:28           525.442 24258a271e05ff73e8d1c49af05e1441.dcm\n",
      "08.03.2017  08:28           525.442 251a10e3af0aa42f1e77d4cf84a0f39d.dcm\n",
      "08.03.2017  08:28           525.444 27044e5a46b8135b4c031ac88aa8cf5f.dcm\n",
      "08.03.2017  08:28           525.446 2cca7587b340477df0e01b9a36679b6b.dcm\n",
      "08.03.2017  08:28           525.446 2e56c90ec40b3ea7e4da9fb626609317.dcm\n",
      "08.03.2017  08:28           525.448 31a692894ccb7d2b72ade72c007e74c8.dcm\n",
      "08.03.2017  08:28           525.444 32c74b61d8769998d9b73ae34cdb6dfb.dcm\n",
      "08.03.2017  08:28           525.442 3550f35f597290b97baa2650f93b791d.dcm\n",
      "08.03.2017  08:28           525.446 35fcd8810898a36698ff815da15866e9.dcm\n",
      "08.03.2017  08:28           525.446 38c4ff5d36b5a6b6dc025435d62a143d.dcm\n",
      "08.03.2017  08:28           525.446 38cb12500e8bf8cf3a5422f8c947a909.dcm\n",
      "08.03.2017  08:28           525.442 3ba0cad671e5514564aaaa939bbc8221.dcm\n",
      "08.03.2017  08:28           525.446 3bfc063e5477d08cf8d613a188dd65e2.dcm\n",
      "08.03.2017  08:28           525.442 3dff92c9581feafeb85d882b068b3158.dcm\n",
      "08.03.2017  08:28           525.438 415529f2bbdc20f391c9c1f8603b3b11.dcm\n",
      "08.03.2017  08:28           525.442 42804850e0b051df2cfa0b40c6c48016.dcm\n",
      "08.03.2017  08:28           525.442 46f5fb93737dc96cd891d72fbd2860f7.dcm\n",
      "08.03.2017  08:28           525.444 48b6b98f614f1cd3f0c84c076131636a.dcm\n",
      "08.03.2017  08:28           525.444 4cbf16ace7acda9a1a0418b546d8318d.dcm\n",
      "08.03.2017  08:28           525.446 4f5770cfc32d931279a880eec025742c.dcm\n",
      "08.03.2017  08:28           525.442 521c54021dc54b7600e93ee1e78ca8cb.dcm\n",
      "08.03.2017  08:28           525.446 528c1786cee11ffcaedbf6fff50d461a.dcm\n",
      "08.03.2017  08:28           525.448 5864eab592f8b5de9e8898825108bdce.dcm\n",
      "08.03.2017  08:28           525.438 586dc3e4fac85947d6b5b0c343918a55.dcm\n",
      "08.03.2017  08:28           525.438 58d813cd1c776c4278a819e756080939.dcm\n",
      "08.03.2017  08:28           525.444 5b50da182e06053a7fb4f2e1bf536d92.dcm\n",
      "08.03.2017  08:28           525.448 5c0101a0160c5645587d0e523b51b490.dcm\n",
      "08.03.2017  08:28           525.446 604a0b0f49d08af904d9d781a5214554.dcm\n",
      "08.03.2017  08:28           525.448 60ee28f17592b62082cc80a5c31f7bc1.dcm\n",
      "08.03.2017  08:28           525.442 6719877114f0856ddcba77d8d00c43cc.dcm\n",
      "08.03.2017  08:28           525.442 67580dba709ced3854bf3dac517506de.dcm\n",
      "08.03.2017  08:28           525.446 695978e4c5d229945731bac2d0e18105.dcm\n",
      "08.03.2017  08:28           525.438 6c2809d0d8674e002200212cc87a9dcc.dcm\n",
      "08.03.2017  08:28           525.442 6d795b5be1f7bb1046795e4a8598c342.dcm\n",
      "08.03.2017  08:28           525.448 6daed9579a87f6e504c13e00b2eefa2c.dcm\n",
      "08.03.2017  08:28           525.446 703c675b0898c2013f45be3beea6cd9b.dcm\n",
      "08.03.2017  08:28           525.442 706594fd92bddfb2bf80db615b28bf16.dcm\n",
      "08.03.2017  08:28           525.446 706b1fd58d05f74ced760e183a4289b2.dcm\n",
      "08.03.2017  08:28           525.446 71ac828e20b7658e71f8bfc1dcb94520.dcm\n",
      "08.03.2017  08:28           525.446 7665594ce7d0ddf325f7d6b4413dd411.dcm\n",
      "08.03.2017  08:28           525.442 7897f2a9821c4ed303bccdb313ed94b3.dcm\n",
      "08.03.2017  08:28           525.442 7b9c96a071f7e44c4b3ba17db98699dd.dcm\n",
      "08.03.2017  08:28           525.448 7e84530c34d49e610c647015b5e956dd.dcm\n",
      "08.03.2017  08:28           525.448 80522596e3ca98563c3e1935056fb4fd.dcm\n",
      "08.03.2017  08:28           525.448 8293843edee78cfc2ad682658d77bbd3.dcm\n",
      "08.03.2017  08:28           525.438 835253109c3498dd66af0a0cb41530f0.dcm\n",
      "08.03.2017  08:28           525.448 83bad73cc432b79eaf8586d96f7569c6.dcm\n",
      "08.03.2017  08:28           525.442 88e9ce22ba63210cf3fc7d8066b817d4.dcm\n",
      "08.03.2017  08:28           525.442 8a977cd59c927f492e3ba7a7137dff29.dcm\n",
      "08.03.2017  08:28           525.446 90c9eca7c554ea122560249fbf21f4e4.dcm\n",
      "08.03.2017  08:28           525.438 90f4c0c411251b4308351b250e694c61.dcm\n",
      "08.03.2017  08:28           525.442 936c19eea5939f5d4b237731e97ee73c.dcm\n",
      "08.03.2017  08:28           525.446 995fa45fdcc074dee9a238bfa69f52b9.dcm\n",
      "08.03.2017  08:28           525.448 9d44441b36c831a51ea2e70374b58965.dcm\n",
      "08.03.2017  08:28           525.446 9d78223a26180f4f4880a088532c1375.dcm\n",
      "08.03.2017  08:28           525.442 a1c4a5aebd5a5a05285caaef5223e960.dcm\n",
      "08.03.2017  08:28           525.442 a51d7b5de1b4d9fc50b2d99bdd498e2c.dcm\n",
      "08.03.2017  08:28           525.448 a7096622ff87666124be9b65f667ac19.dcm\n",
      "08.03.2017  08:28           525.446 ab611e5865b1a4eb3d6c5f7d24bd4f4b.dcm\n",
      "08.03.2017  08:28           525.446 abdfe3f04c706a4ecf18b1e1464d9372.dcm\n",
      "08.03.2017  08:28           525.446 ac588b16cda110f04e5f83bb30820d43.dcm\n",
      "08.03.2017  08:28           525.446 acb919b2f638288f0882292468e7a448.dcm\n",
      "08.03.2017  08:28           525.442 ace7e133a0a9f34cd501b3108befa5a2.dcm\n",
      "08.03.2017  08:28           525.442 ad68ddab98dfdd426756fd8772beccc0.dcm\n",
      "08.03.2017  08:28           525.446 ae318d30cde05384fddc4f208c981ee8.dcm\n",
      "08.03.2017  08:28           525.442 b3b1706ef98df8f60c2c35d274004208.dcm\n",
      "08.03.2017  08:28           525.448 b5759a0b02bada9b42d5e72fc7f7e2e1.dcm\n",
      "08.03.2017  08:28           525.446 b792dbfc27d50dc33e1e0f4b47401a47.dcm\n",
      "08.03.2017  08:28           525.444 b7acbc09401c3c3422e12a0d2bd3b060.dcm\n",
      "08.03.2017  08:28           525.446 baf68132894578a20ed93489aecde546.dcm\n",
      "08.03.2017  08:28           525.442 bc4100f1bbaf218ac78cbeb378a5b42d.dcm\n",
      "08.03.2017  08:28           525.446 bcc85297b22ac2f948fb3bb7720366a2.dcm\n",
      "08.03.2017  08:28           525.446 bd25f42ec545affcd47bdba41a8ff7df.dcm\n",
      "08.03.2017  08:28           525.446 bd2bcad572b4f3400fdfee50df02bd37.dcm\n",
      "08.03.2017  08:28           525.438 be2725ef51470b93ec87b2a7a5cd0271.dcm\n",
      "08.03.2017  08:28           525.446 bf86db180c5768eea526e69e125b06e5.dcm\n",
      "08.03.2017  08:28           525.446 c07458607a28441457df6485388d4893.dcm\n",
      "08.03.2017  08:28           525.448 c4274a3b925a3ddcec7f4e46faece4cf.dcm\n",
      "08.03.2017  08:28           525.446 c53dfb6cba207b532a98132ba39e0760.dcm\n",
      "08.03.2017  08:28           525.448 c621ac8da9de8f0c2f944e9ac9de3d92.dcm\n",
      "08.03.2017  08:28           525.446 c6759a80d9b1cfc3d738cf9ae9d09cf0.dcm\n",
      "08.03.2017  08:28           525.446 c8e23a8332cfb9fbf515dcdfd0c4f92f.dcm\n",
      "08.03.2017  08:28           525.442 c99fe81d18b0431a19872e8e4700849f.dcm\n",
      "08.03.2017  08:28           525.446 cd44c4938dc98489f512d6e1a827baf1.dcm\n",
      "08.03.2017  08:28           525.446 cdb53ea92a4502f7208ff321d87c7b62.dcm\n",
      "08.03.2017  08:28           525.444 ce4e6dd68f899b36aeb6e431c6e15d5b.dcm\n",
      "08.03.2017  08:28           525.448 cf14809cb85b6031eb5539605f388743.dcm\n",
      "08.03.2017  08:28           525.448 cfe6bd559446efb7a5cdbe021481cbce.dcm\n",
      "08.03.2017  08:28           525.448 d4d0d5f356b7c10feb380764a404d1f0.dcm\n",
      "08.03.2017  08:28           525.442 d5df518a159d6a7b5ceaa31486416bfa.dcm\n",
      "08.03.2017  08:28           525.442 d7379620d30f8c32835f2edca9751a4b.dcm\n",
      "08.03.2017  08:28           525.446 d9a736e6ccd36523622b555ab0de4ccc.dcm\n",
      "08.03.2017  08:28           525.448 da1f5a82dafe221c8dfddfb578791240.dcm\n",
      "08.03.2017  08:28           525.446 da6760bd43d1fc0b10ceb82e35d2ceed.dcm\n",
      "08.03.2017  08:28           525.442 ddf2e98b80db6dc28558504d765cd69f.dcm\n",
      "08.03.2017  08:28           525.442 e14dd39443eafd70061fc6c4fa124be6.dcm\n",
      "08.03.2017  08:28           525.444 e199e16def4488fbc6ea94dfd3c1a059.dcm\n",
      "08.03.2017  08:28           525.446 e89d1e5a03f2eb6e265b0a8129b2818f.dcm\n",
      "08.03.2017  08:28           525.442 ea50e024904ef4ae1d51936ac43b9a2d.dcm\n",
      "08.03.2017  08:28           525.448 ea8c85232f6cf79402df35bae75feffd.dcm\n",
      "08.03.2017  08:28           525.442 ec480ec8aebc4bda17fc69a0b47b4521.dcm\n",
      "08.03.2017  08:28           525.446 ed3738b5675409aa3f559c5dec35808a.dcm\n",
      "08.03.2017  08:28           525.442 edeb7615b9b172f104db566d11168409.dcm\n",
      "08.03.2017  08:28           525.446 ef6b0c74539af15d9ecfa7838b262492.dcm\n",
      "08.03.2017  08:28           525.438 f1c37407c78d2671e20522b3925a8755.dcm\n",
      "08.03.2017  08:28           525.446 f21399d0c62ffe79318f72bb35135ded.dcm\n",
      "08.03.2017  08:28           525.446 f793659482982828da0cedb893757896.dcm\n",
      "08.03.2017  08:28           525.438 fa7a21165ae152b13def786e6afc3edf.dcm\n",
      "             134 Datei(en),     70.409.530 Bytes\n",
      "               2 Verzeichnis(se), 72.635.211.776 Bytes frei\n"
     ]
    }
   ],
   "source": [
    "ls \"data/sample_2_patients/00cba091fa4ad62cc3200a657aeb957e/\""
   ]
  },
  {
   "cell_type": "markdown",
   "metadata": {},
   "source": [
    "Import pydicom to process the .dcm files\n",
    "Documentation https://pydicom.readthedocs.io/en/stable/\n",
    "\n",
    "In conda run the following command:\n",
    "\n",
    "``` bash\n",
    "conda install -c conda-forge pydicom\n",
    "```\n",
    "\n",
    "- Information\n",
    " - Image with gray scale values\n",
    " - Z-Position of the slice "
   ]
  },
  {
   "cell_type": "code",
   "execution_count": 13,
   "metadata": {
    "collapsed": false
   },
   "outputs": [],
   "source": [
    "import dicom\n",
    "import os\n",
    "\n",
    "inputFolder = 'Data/sample_2_patients/'\n",
    "patients = os.listdir(inputFolder)\n",
    "patients.sort()\n",
    "\n",
    "pathPatientZero = inputFolder + patients[0] + '/'\n",
    "patientZero_Images = [dicom.read_file(pathPatientZero + file) for file in os.listdir(pathPatientZero)]"
   ]
  },
  {
   "cell_type": "code",
   "execution_count": 10,
   "metadata": {
    "collapsed": false
   },
   "outputs": [
    {
     "data": {
      "text/plain": [
       "(0008, 0005) Specific Character Set              CS: 'ISO_IR 100'\n",
       "(0008, 0016) SOP Class UID                       UI: CT Image Storage\n",
       "(0008, 0018) SOP Instance UID                    UI: 1.2.840.113654.2.55.249139163741242644304020243485943527041\n",
       "(0008, 0060) Modality                            CS: 'CT'\n",
       "(0008, 103e) Series Description                  LO: 'Axial'\n",
       "(0010, 0010) Patient's Name                      PN: '00cba091fa4ad62cc3200a657aeb957e'\n",
       "(0010, 0020) Patient ID                          LO: '00cba091fa4ad62cc3200a657aeb957e'\n",
       "(0010, 0030) Patient's Birth Date                DA: '19000101'\n",
       "(0018, 0060) KVP                                 DS: ''\n",
       "(0020, 000d) Study Instance UID                  UI: 2.25.86208730140539712382771890501772734277950692397709007305473\n",
       "(0020, 000e) Series Instance UID                 UI: 2.25.11575877329635228925808596800269974740893519451784626046614\n",
       "(0020, 0011) Series Number                       IS: '3'\n",
       "(0020, 0012) Acquisition Number                  IS: '1'\n",
       "(0020, 0013) Instance Number                     IS: '118'\n",
       "(0020, 0020) Patient Orientation                 CS: ''\n",
       "(0020, 0032) Image Position (Patient)            DS: ['-145.500000', '-158.199997', '-316.200012']\n",
       "(0020, 0037) Image Orientation (Patient)         DS: ['1.000000', '0.000000', '0.000000', '0.000000', '1.000000', '0.000000']\n",
       "(0020, 0052) Frame of Reference UID              UI: 2.25.83033509634441686385652073462983801840121916678417719669650\n",
       "(0020, 1040) Position Reference Indicator        LO: 'SN'\n",
       "(0020, 1041) Slice Location                      DS: '-316.200012'\n",
       "(0028, 0002) Samples per Pixel                   US: 1\n",
       "(0028, 0004) Photometric Interpretation          CS: 'MONOCHROME2'\n",
       "(0028, 0010) Rows                                US: 512\n",
       "(0028, 0011) Columns                             US: 512\n",
       "(0028, 0030) Pixel Spacing                       DS: ['0.597656', '0.597656']\n",
       "(0028, 0100) Bits Allocated                      US: 16\n",
       "(0028, 0101) Bits Stored                         US: 16\n",
       "(0028, 0102) High Bit                            US: 15\n",
       "(0028, 0103) Pixel Representation                US: 1\n",
       "(0028, 0120) Pixel Padding Value                 US: 63536\n",
       "(0028, 1050) Window Center                       DS: '40'\n",
       "(0028, 1051) Window Width                        DS: '400'\n",
       "(0028, 1052) Rescale Intercept                   DS: '-1024'\n",
       "(0028, 1053) Rescale Slope                       DS: '1'\n",
       "(7fe0, 0010) Pixel Data                          OW: Array of 524288 bytes"
      ]
     },
     "execution_count": 10,
     "metadata": {},
     "output_type": "execute_result"
    }
   ],
   "source": [
    "patientZero_Images[0]"
   ]
  },
  {
   "cell_type": "code",
   "execution_count": 12,
   "metadata": {
    "collapsed": false
   },
   "outputs": [
    {
     "name": "stdout",
     "output_type": "stream",
     "text": [
      "Pixel array:  [[-2000 -2000 -2000 ..., -2000 -2000 -2000]\n",
      " [-2000 -2000 -2000 ..., -2000 -2000 -2000]\n",
      " [-2000 -2000 -2000 ..., -2000 -2000 -2000]\n",
      " ..., \n",
      " [-2000 -2000 -2000 ..., -2000 -2000 -2000]\n",
      " [-2000 -2000 -2000 ..., -2000 -2000 -2000]\n",
      " [-2000 -2000 -2000 ..., -2000 -2000 -2000]]\n",
      "Pixel array shape:  (512, 512)\n",
      "Scan position:  ['-145.500000', '-158.199997', '-316.200012']\n",
      "Scan location:  -316.200012\n",
      "Number of scans:  134\n"
     ]
    }
   ],
   "source": [
    "print(\"Pixel array: \", patientZero_Images[0].pixel_array)\n",
    "print(\"Pixel array shape: \",patientZero_Images[0].pixel_array.shape)\n",
    "print(\"Scan position: \",patientZero_Images[0].ImagePositionPatient)\n",
    "print(\"Scan location: \",patientZero_Images[0].SliceLocation)\n",
    "print(\"Number of scans: \",len(patientZero_Images))"
   ]
  },
  {
   "cell_type": "markdown",
   "metadata": {},
   "source": [
    "### Which System to use?\n",
    "\n",
    "- Unzipped data 140GB\n",
    " - After preprocessing at least same amount added\n",
    " - Minimum of ~300GB free disk space needed\n",
    "- For the artificial neural network we need a GPU\n",
    " - Without a GPU learning and prediction time to long\n",
    "\n",
    "#### Laptop\n",
    "- No GPU\n",
    "- Not enough free disk space\n",
    "\n",
    "#### Cloud computing instances\n",
    "- Number of GPUs and disk space is scalable"
   ]
  },
  {
   "cell_type": "markdown",
   "metadata": {},
   "source": [
    "### Which cloud scientific computing to use?\n",
    "\n",
    "- Azure\n",
    " - Collegues have experience using Azure\n",
    "- Amazon Web Services\n",
    " - Company likes to get experience with AWS\n",
    " - Fast search for tutorials results in a lot of information for AWS\n",
    " - AWS is one of the official partners for the competition\n",
    "- Google Cloud\n"
   ]
  },
  {
   "cell_type": "code",
   "execution_count": null,
   "metadata": {
    "collapsed": true
   },
   "outputs": [],
   "source": []
  }
 ],
 "metadata": {
  "anaconda-cloud": {},
  "kernelspec": {
   "display_name": "Python [default]",
   "language": "python",
   "name": "python3"
  },
  "language_info": {
   "codemirror_mode": {
    "name": "ipython",
    "version": 3
   },
   "file_extension": ".py",
   "mimetype": "text/x-python",
   "name": "python",
   "nbconvert_exporter": "python",
   "pygments_lexer": "ipython3",
   "version": "3.5.2"
  },
  "nbpresent": {
   "slides": {
    "89d7ca40-a20a-45ef-a3ac-76f58b7ebf75": {
     "id": "89d7ca40-a20a-45ef-a3ac-76f58b7ebf75",
     "prev": null,
     "regions": {
      "f3e4fea7-d715-4049-b01d-849af180d55b": {
       "attrs": {
        "height": 0.8,
        "width": 0.8,
        "x": 0.1,
        "y": 0.1
       },
       "content": {
        "cell": "20e5cceb-3ef6-4ac6-b627-ac62a3248822",
        "part": "whole"
       },
       "id": "f3e4fea7-d715-4049-b01d-849af180d55b"
      }
     }
    },
    "9e074951-9d85-45f6-8bd3-7d7fe1e9998a": {
     "id": "9e074951-9d85-45f6-8bd3-7d7fe1e9998a",
     "prev": "adc14ce3-9418-48e5-9862-8b980fc7c510",
     "regions": {
      "d3dc7100-fcac-4281-9958-2db3f3edc21f": {
       "attrs": {
        "height": 0.8,
        "width": 0.8,
        "x": 0.1,
        "y": 0.1
       },
       "content": {
        "cell": "26a3e589-d2e5-4495-8ea6-08a2ed4563af",
        "part": "whole"
       },
       "id": "d3dc7100-fcac-4281-9958-2db3f3edc21f"
      }
     }
    },
    "adc14ce3-9418-48e5-9862-8b980fc7c510": {
     "id": "adc14ce3-9418-48e5-9862-8b980fc7c510",
     "prev": "89d7ca40-a20a-45ef-a3ac-76f58b7ebf75",
     "regions": {
      "10e08be3-7834-48b8-bc90-55f3f598d3e7": {
       "attrs": {
        "height": 0.8,
        "width": 0.8,
        "x": 0.1,
        "y": 0.1
       },
       "content": {
        "cell": "fa732945-00f6-4e92-94bd-2caae86ead4b",
        "part": "whole"
       },
       "id": "10e08be3-7834-48b8-bc90-55f3f598d3e7"
      }
     }
    },
    "e9a67fc4-c80a-47c8-b1af-00a724a91fb5": {
     "id": "e9a67fc4-c80a-47c8-b1af-00a724a91fb5",
     "prev": "9e074951-9d85-45f6-8bd3-7d7fe1e9998a",
     "regions": {
      "a539e016-e642-4726-9a9e-12327496d82f": {
       "attrs": {
        "height": 0.8,
        "width": 0.8,
        "x": 0.1,
        "y": 0.1
       },
       "content": {
        "cell": "12e7f360-405e-4893-823e-ec1f94653d9c",
        "part": "whole"
       },
       "id": "a539e016-e642-4726-9a9e-12327496d82f"
      }
     }
    },
    "ecf8129d-84af-4782-825c-cb579aeb1bf2": {
     "id": "ecf8129d-84af-4782-825c-cb579aeb1bf2",
     "prev": "e9a67fc4-c80a-47c8-b1af-00a724a91fb5",
     "regions": {
      "bacaf540-a2f9-4a23-8705-137969259673": {
       "attrs": {
        "height": 0.8,
        "width": 0.8,
        "x": 0.1,
        "y": 0.1
       },
       "content": {
        "cell": "103c6bbb-0657-43b1-b59a-6134d2f0a475",
        "part": "whole"
       },
       "id": "bacaf540-a2f9-4a23-8705-137969259673"
      }
     }
    }
   },
   "themes": {}
  }
 },
 "nbformat": 4,
 "nbformat_minor": 1
}
